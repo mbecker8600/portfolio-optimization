{
 "cells": [
  {
   "cell_type": "code",
   "execution_count": 367,
   "metadata": {},
   "outputs": [],
   "source": [
    "import pandas as pd\n",
    "import numpy as np\n",
    "from tqdm import tqdm_notebook as tqdm\n",
    "import matplotlib.pyplot as plt"
   ]
  },
  {
   "cell_type": "code",
   "execution_count": 108,
   "metadata": {
    "scrolled": true
   },
   "outputs": [
    {
     "data": {
      "text/html": [
       "<div>\n",
       "<table border=\"1\" class=\"dataframe\">\n",
       "  <thead>\n",
       "    <tr style=\"text-align: right;\">\n",
       "      <th></th>\n",
       "      <th>fund_name</th>\n",
       "      <th>asset_class</th>\n",
       "    </tr>\n",
       "  </thead>\n",
       "  <tbody>\n",
       "    <tr>\n",
       "      <th>0</th>\n",
       "      <td>EDF</td>\n",
       "      <td>Bond - Long Term Government</td>\n",
       "    </tr>\n",
       "    <tr>\n",
       "      <th>1</th>\n",
       "      <td>BIV</td>\n",
       "      <td>Bond - Inter Term Government</td>\n",
       "    </tr>\n",
       "    <tr>\n",
       "      <th>2</th>\n",
       "      <td>VGIT</td>\n",
       "      <td>Bond - Inter Term Investment</td>\n",
       "    </tr>\n",
       "    <tr>\n",
       "      <th>3</th>\n",
       "      <td>BLV</td>\n",
       "      <td>NaN</td>\n",
       "    </tr>\n",
       "    <tr>\n",
       "      <th>4</th>\n",
       "      <td>VGLT</td>\n",
       "      <td>NaN</td>\n",
       "    </tr>\n",
       "    <tr>\n",
       "      <th>5</th>\n",
       "      <td>VMBS</td>\n",
       "      <td>NaN</td>\n",
       "    </tr>\n",
       "    <tr>\n",
       "      <th>6</th>\n",
       "      <td>BSV</td>\n",
       "      <td>NaN</td>\n",
       "    </tr>\n",
       "    <tr>\n",
       "      <th>7</th>\n",
       "      <td>VTIP</td>\n",
       "      <td>NaN</td>\n",
       "    </tr>\n",
       "    <tr>\n",
       "      <th>8</th>\n",
       "      <td>VGSH</td>\n",
       "      <td>NaN</td>\n",
       "    </tr>\n",
       "    <tr>\n",
       "      <th>9</th>\n",
       "      <td>BND</td>\n",
       "      <td>NaN</td>\n",
       "    </tr>\n",
       "    <tr>\n",
       "      <th>10</th>\n",
       "      <td>VCIT</td>\n",
       "      <td>NaN</td>\n",
       "    </tr>\n",
       "    <tr>\n",
       "      <th>11</th>\n",
       "      <td>VCLT</td>\n",
       "      <td>NaN</td>\n",
       "    </tr>\n",
       "    <tr>\n",
       "      <th>12</th>\n",
       "      <td>VCSH</td>\n",
       "      <td>NaN</td>\n",
       "    </tr>\n",
       "    <tr>\n",
       "      <th>13</th>\n",
       "      <td>VTC</td>\n",
       "      <td>NaN</td>\n",
       "    </tr>\n",
       "    <tr>\n",
       "      <th>14</th>\n",
       "      <td>VTEB</td>\n",
       "      <td>NaN</td>\n",
       "    </tr>\n",
       "    <tr>\n",
       "      <th>15</th>\n",
       "      <td>VIG</td>\n",
       "      <td>NaN</td>\n",
       "    </tr>\n",
       "    <tr>\n",
       "      <th>16</th>\n",
       "      <td>VUG</td>\n",
       "      <td>NaN</td>\n",
       "    </tr>\n",
       "    <tr>\n",
       "      <th>17</th>\n",
       "      <td>VYM</td>\n",
       "      <td>NaN</td>\n",
       "    </tr>\n",
       "    <tr>\n",
       "      <th>18</th>\n",
       "      <td>VV</td>\n",
       "      <td>NaN</td>\n",
       "    </tr>\n",
       "    <tr>\n",
       "      <th>19</th>\n",
       "      <td>MGC</td>\n",
       "      <td>NaN</td>\n",
       "    </tr>\n",
       "    <tr>\n",
       "      <th>20</th>\n",
       "      <td>MGK</td>\n",
       "      <td>NaN</td>\n",
       "    </tr>\n",
       "    <tr>\n",
       "      <th>21</th>\n",
       "      <td>MGV</td>\n",
       "      <td>NaN</td>\n",
       "    </tr>\n",
       "    <tr>\n",
       "      <th>22</th>\n",
       "      <td>VOO</td>\n",
       "      <td>NaN</td>\n",
       "    </tr>\n",
       "    <tr>\n",
       "      <th>23</th>\n",
       "      <td>VTI</td>\n",
       "      <td>NaN</td>\n",
       "    </tr>\n",
       "    <tr>\n",
       "      <th>24</th>\n",
       "      <td>VTV</td>\n",
       "      <td>NaN</td>\n",
       "    </tr>\n",
       "    <tr>\n",
       "      <th>25</th>\n",
       "      <td>VXF</td>\n",
       "      <td>NaN</td>\n",
       "    </tr>\n",
       "    <tr>\n",
       "      <th>26</th>\n",
       "      <td>VO</td>\n",
       "      <td>NaN</td>\n",
       "    </tr>\n",
       "    <tr>\n",
       "      <th>27</th>\n",
       "      <td>VOT</td>\n",
       "      <td>NaN</td>\n",
       "    </tr>\n",
       "    <tr>\n",
       "      <th>28</th>\n",
       "      <td>VOE</td>\n",
       "      <td>NaN</td>\n",
       "    </tr>\n",
       "    <tr>\n",
       "      <th>29</th>\n",
       "      <td>VB</td>\n",
       "      <td>NaN</td>\n",
       "    </tr>\n",
       "    <tr>\n",
       "      <th>30</th>\n",
       "      <td>VBK</td>\n",
       "      <td>NaN</td>\n",
       "    </tr>\n",
       "    <tr>\n",
       "      <th>31</th>\n",
       "      <td>VBR</td>\n",
       "      <td>NaN</td>\n",
       "    </tr>\n",
       "    <tr>\n",
       "      <th>32</th>\n",
       "      <td>BNDX</td>\n",
       "      <td>NaN</td>\n",
       "    </tr>\n",
       "    <tr>\n",
       "      <th>33</th>\n",
       "      <td>VWOB</td>\n",
       "      <td>NaN</td>\n",
       "    </tr>\n",
       "    <tr>\n",
       "      <th>34</th>\n",
       "      <td>VT</td>\n",
       "      <td>NaN</td>\n",
       "    </tr>\n",
       "    <tr>\n",
       "      <th>35</th>\n",
       "      <td>VEU</td>\n",
       "      <td>NaN</td>\n",
       "    </tr>\n",
       "    <tr>\n",
       "      <th>36</th>\n",
       "      <td>VSS</td>\n",
       "      <td>NaN</td>\n",
       "    </tr>\n",
       "    <tr>\n",
       "      <th>37</th>\n",
       "      <td>VEA</td>\n",
       "      <td>NaN</td>\n",
       "    </tr>\n",
       "    <tr>\n",
       "      <th>38</th>\n",
       "      <td>VGK</td>\n",
       "      <td>NaN</td>\n",
       "    </tr>\n",
       "    <tr>\n",
       "      <th>39</th>\n",
       "      <td>VPL</td>\n",
       "      <td>NaN</td>\n",
       "    </tr>\n",
       "    <tr>\n",
       "      <th>40</th>\n",
       "      <td>VNQI</td>\n",
       "      <td>NaN</td>\n",
       "    </tr>\n",
       "    <tr>\n",
       "      <th>41</th>\n",
       "      <td>VIGI</td>\n",
       "      <td>NaN</td>\n",
       "    </tr>\n",
       "    <tr>\n",
       "      <th>42</th>\n",
       "      <td>VYMI</td>\n",
       "      <td>NaN</td>\n",
       "    </tr>\n",
       "    <tr>\n",
       "      <th>43</th>\n",
       "      <td>VXUS</td>\n",
       "      <td>NaN</td>\n",
       "    </tr>\n",
       "    <tr>\n",
       "      <th>44</th>\n",
       "      <td>VWO</td>\n",
       "      <td>NaN</td>\n",
       "    </tr>\n",
       "    <tr>\n",
       "      <th>45</th>\n",
       "      <td>VOX</td>\n",
       "      <td>NaN</td>\n",
       "    </tr>\n",
       "    <tr>\n",
       "      <th>46</th>\n",
       "      <td>VCR</td>\n",
       "      <td>NaN</td>\n",
       "    </tr>\n",
       "    <tr>\n",
       "      <th>47</th>\n",
       "      <td>VDC</td>\n",
       "      <td>NaN</td>\n",
       "    </tr>\n",
       "    <tr>\n",
       "      <th>48</th>\n",
       "      <td>VDE</td>\n",
       "      <td>NaN</td>\n",
       "    </tr>\n",
       "    <tr>\n",
       "      <th>49</th>\n",
       "      <td>VFH</td>\n",
       "      <td>NaN</td>\n",
       "    </tr>\n",
       "    <tr>\n",
       "      <th>50</th>\n",
       "      <td>VHT</td>\n",
       "      <td>NaN</td>\n",
       "    </tr>\n",
       "    <tr>\n",
       "      <th>51</th>\n",
       "      <td>VIS</td>\n",
       "      <td>NaN</td>\n",
       "    </tr>\n",
       "    <tr>\n",
       "      <th>52</th>\n",
       "      <td>VGT</td>\n",
       "      <td>NaN</td>\n",
       "    </tr>\n",
       "    <tr>\n",
       "      <th>53</th>\n",
       "      <td>VAW</td>\n",
       "      <td>NaN</td>\n",
       "    </tr>\n",
       "    <tr>\n",
       "      <th>54</th>\n",
       "      <td>VNQ</td>\n",
       "      <td>NaN</td>\n",
       "    </tr>\n",
       "    <tr>\n",
       "      <th>55</th>\n",
       "      <td>VPU</td>\n",
       "      <td>NaN</td>\n",
       "    </tr>\n",
       "  </tbody>\n",
       "</table>\n",
       "</div>"
      ],
      "text/plain": [
       "   fund_name                   asset_class\n",
       "0        EDF   Bond - Long Term Government\n",
       "1        BIV  Bond - Inter Term Government\n",
       "2       VGIT  Bond - Inter Term Investment\n",
       "3        BLV                           NaN\n",
       "4       VGLT                           NaN\n",
       "5       VMBS                           NaN\n",
       "6        BSV                           NaN\n",
       "7       VTIP                           NaN\n",
       "8       VGSH                           NaN\n",
       "9        BND                           NaN\n",
       "10      VCIT                           NaN\n",
       "11      VCLT                           NaN\n",
       "12      VCSH                           NaN\n",
       "13       VTC                           NaN\n",
       "14      VTEB                           NaN\n",
       "15       VIG                           NaN\n",
       "16       VUG                           NaN\n",
       "17       VYM                           NaN\n",
       "18        VV                           NaN\n",
       "19       MGC                           NaN\n",
       "20       MGK                           NaN\n",
       "21       MGV                           NaN\n",
       "22       VOO                           NaN\n",
       "23       VTI                           NaN\n",
       "24       VTV                           NaN\n",
       "25       VXF                           NaN\n",
       "26        VO                           NaN\n",
       "27       VOT                           NaN\n",
       "28       VOE                           NaN\n",
       "29        VB                           NaN\n",
       "30       VBK                           NaN\n",
       "31       VBR                           NaN\n",
       "32      BNDX                           NaN\n",
       "33      VWOB                           NaN\n",
       "34        VT                           NaN\n",
       "35       VEU                           NaN\n",
       "36       VSS                           NaN\n",
       "37       VEA                           NaN\n",
       "38       VGK                           NaN\n",
       "39       VPL                           NaN\n",
       "40      VNQI                           NaN\n",
       "41      VIGI                           NaN\n",
       "42      VYMI                           NaN\n",
       "43      VXUS                           NaN\n",
       "44       VWO                           NaN\n",
       "45       VOX                           NaN\n",
       "46       VCR                           NaN\n",
       "47       VDC                           NaN\n",
       "48       VDE                           NaN\n",
       "49       VFH                           NaN\n",
       "50       VHT                           NaN\n",
       "51       VIS                           NaN\n",
       "52       VGT                           NaN\n",
       "53       VAW                           NaN\n",
       "54       VNQ                           NaN\n",
       "55       VPU                           NaN"
      ]
     },
     "execution_count": 108,
     "metadata": {},
     "output_type": "execute_result"
    }
   ],
   "source": [
    "vg_funds = pd.read_csv('data/fund_list.csv')"
   ]
  },
  {
   "cell_type": "code",
   "execution_count": 341,
   "metadata": {},
   "outputs": [],
   "source": [
    "import quandl\n",
    "quandl.ApiConfig.api_key = 'rb8eEU4go9wAPCe7Woq8'\n",
    "\n",
    "def get_data(symbols, date_range):\n",
    "    \"\"\"Read stock data (adjusted close) for given symbols from Quandl data.\"\"\"\n",
    "    \n",
    "    dfs = []\n",
    "\n",
    "    pbar = tqdm(total=len(date_range))\n",
    "    for date in date_range:\n",
    "        df = quandl.get_table('SHARADAR/SFP', date=date, ticker=symbols)\n",
    "        dfs.append(df)\n",
    "        pbar.update(1)\n",
    "    \n",
    "    pbar.close()\n",
    "    data = pd.concat(dfs)\n",
    "    data = data.reset_index().set_index(['ticker', 'date'])\n",
    "    return data"
   ]
  },
  {
   "cell_type": "code",
   "execution_count": 204,
   "metadata": {},
   "outputs": [],
   "source": [
    "import datetime\n",
    "\n",
    "start_date = datetime.datetime(2012, 1, 1)\n",
    "end_date = datetime.datetime(2018, 1, 1)\n",
    "dates = pd.date_range(start_date, end_date)\n",
    "symbols = list(vg_funds['fund_name'])\n",
    "\n",
    "fund_prices = get_data(symbols, dates)\n",
    "fund_prices.drop(['None', 'lastupdated', 'dividends', 'closeunadj'], axis=1, inplace=True)"
   ]
  },
  {
   "cell_type": "code",
   "execution_count": 205,
   "metadata": {},
   "outputs": [
    {
     "name": "stdout",
     "output_type": "stream",
     "text": [
      "79113\n"
     ]
    }
   ],
   "source": [
    "print(len(fund_prices))"
   ]
  },
  {
   "cell_type": "code",
   "execution_count": 222,
   "metadata": {},
   "outputs": [
    {
     "name": "stdout",
     "output_type": "stream",
     "text": [
      "                    open    high    low  close     volume\n",
      "ticker date                                              \n",
      "BIV    2012-01-03  86.62  87.007  86.62  86.90   379600.0\n",
      "BLV    2012-01-03  91.24  91.850  90.88  91.51   171000.0\n",
      "BND    2012-01-03  83.43  83.430  83.18  83.28  2282600.0\n",
      "BSV    2012-01-03  80.93  80.930  80.75  80.84   786300.0\n",
      "EDF    2012-01-03  21.28  21.630  21.21  21.63    69000.0\n"
     ]
    }
   ],
   "source": [
    "print(fund_prices.head())"
   ]
  },
  {
   "cell_type": "code",
   "execution_count": 446,
   "metadata": {},
   "outputs": [],
   "source": [
    "from sklearn.preprocessing import StandardScaler\n",
    "\n",
    "fund_pct_change = fund_prices.groupby(level=0).pct_change()\n",
    "fund_pct_change.replace([np.inf, -np.inf], np.nan, inplace=True)\n",
    "fund_pct_change.ffill(inplace=True)\n",
    "fund_pct_change.dropna(how='any', inplace=True)\n",
    "\n",
    "scaler = StandardScaler()\n",
    "fund_pct_change_scaled = pd.DataFrame(scaler.fit_transform(fund_pct_change), \n",
    "                                      index=fund_pct_change.index, \n",
    "                                      columns=fund_pct_change.columns)"
   ]
  },
  {
   "cell_type": "code",
   "execution_count": 450,
   "metadata": {},
   "outputs": [],
   "source": [
    "from sklearn import preprocessing\n",
    "\n",
    "def create_dataset(fund_prices, \n",
    "                   n_samples=10000, \n",
    "                   lookback=60, \n",
    "                   window=30):\n",
    "    \n",
    "    samples = fund_prices.sample(n=n_samples)\n",
    "    \n",
    "    X = []\n",
    "    y = []\n",
    "    \n",
    "    \n",
    "    pbar = tqdm(total=len(samples))\n",
    "    for index, row in samples.iterrows():\n",
    "        \n",
    "        pre = fund_prices.loc[index[0]].loc[:index[1]]\n",
    "        pre = pre.reset_index().iloc[-lookback:]\n",
    "        post = fund_prices.loc[index[0]].loc[index[1]:]\n",
    "        post = post.reset_index().iloc[1:window+1]\n",
    "        \n",
    "        pre = pre.drop(['date'], axis=1)\n",
    "        pre = pre.values\n",
    "\n",
    "        post = post.drop(['date'], axis=1)\n",
    "        post = post['close'].values\n",
    "        \n",
    "        if len(pre) == lookback and len(post) == window:\n",
    "            X.append(pre)\n",
    "            y.append(post)\n",
    "        \n",
    "        pbar.update(1)\n",
    "    \n",
    "    return np.array(X), np.array(y)"
   ]
  },
  {
   "cell_type": "code",
   "execution_count": 408,
   "metadata": {},
   "outputs": [],
   "source": [
    "from sklearn import preprocessing\n",
    "\n",
    "scaler = preprocessing.StandardScaler()\n",
    "fund_prices_scaled = pd.DataFrame(scaler.fit_transform(fund_prices), \n",
    "                                  index=fund_prices.index, \n",
    "                                  columns=fund_prices.columns)"
   ]
  },
  {
   "cell_type": "code",
   "execution_count": 451,
   "metadata": {
    "scrolled": true
   },
   "outputs": [
    {
     "data": {
      "application/vnd.jupyter.widget-view+json": {
       "model_id": "4bfd005852a14f5fbedf6df4a59de3b3",
       "version_major": 2,
       "version_minor": 0
      },
      "text/plain": [
       "HBox(children=(IntProgress(value=0, max=70000), HTML(value='')))"
      ]
     },
     "metadata": {},
     "output_type": "display_data"
    },
    {
     "name": "stderr",
     "output_type": "stream",
     "text": [
      "Exception ignored in: <bound method tqdm.__del__ of 70000/|/100%|| 70000/70000 [06:18<00:00, 216.87it/s]>\n",
      "Traceback (most recent call last):\n",
      "  File \"/Users/michaelbecker/anaconda/envs/deeplearning_finance/lib/python3.5/site-packages/tqdm/_tqdm.py\", line 882, in __del__\n",
      "    self.close()\n",
      "  File \"/Users/michaelbecker/anaconda/envs/deeplearning_finance/lib/python3.5/site-packages/tqdm/_tqdm_notebook.py\", line 219, in close\n",
      "    super(tqdm_notebook, self).close(*args, **kwargs)\n",
      "  File \"/Users/michaelbecker/anaconda/envs/deeplearning_finance/lib/python3.5/site-packages/tqdm/_tqdm.py\", line 1087, in close\n",
      "    self._decr_instances(self)\n",
      "  File \"/Users/michaelbecker/anaconda/envs/deeplearning_finance/lib/python3.5/site-packages/tqdm/_tqdm.py\", line 452, in _decr_instances\n",
      "    cls.monitor.exit()\n",
      "  File \"/Users/michaelbecker/anaconda/envs/deeplearning_finance/lib/python3.5/site-packages/tqdm/_monitor.py\", line 50, in exit\n",
      "    self.join()\n",
      "  File \"/Users/michaelbecker/anaconda/envs/deeplearning_finance/lib/python3.5/threading.py\", line 1054, in join\n",
      "    self._wait_for_tstate_lock()\n",
      "  File \"/Users/michaelbecker/anaconda/envs/deeplearning_finance/lib/python3.5/threading.py\", line 1070, in _wait_for_tstate_lock\n",
      "    elif lock.acquire(block, timeout):\n",
      "KeyboardInterrupt: \n"
     ]
    }
   ],
   "source": [
    "X_train, y_train = create_dataset(fund_pct_change_scaled, n_samples=70000, lookback=60, window=15)"
   ]
  },
  {
   "cell_type": "code",
   "execution_count": 424,
   "metadata": {},
   "outputs": [
    {
     "name": "stdout",
     "output_type": "stream",
     "text": [
      "(951, 60, 5)\n",
      "(951, 15)\n"
     ]
    }
   ],
   "source": [
    "print(X_train.shape)\n",
    "print(y_train.shape)"
   ]
  },
  {
   "cell_type": "code",
   "execution_count": 415,
   "metadata": {},
   "outputs": [],
   "source": [
    "from keras.layers.core import Dense, Activation, Dropout\n",
    "from keras.layers.recurrent import LSTM\n",
    "from keras.models import Sequential\n",
    "\n",
    "def build_model(X, y):\n",
    "    model = Sequential()\n",
    "    model.add(LSTM(input_shape=(X.shape[1], X.shape[2]), output_dim=X.shape[1], return_sequences = True))\n",
    "    model.add(Dropout(0.5))\n",
    "    model.add(LSTM(256))\n",
    "    model.add(Dropout(0.5))\n",
    "    model.add(Dense(y.shape[1]))\n",
    "    model.add(Activation(\"linear\"))\n",
    "    model.compile(loss=\"mse\", optimizer=\"adam\")\n",
    "    model.summary()\n",
    "    return model"
   ]
  },
  {
   "cell_type": "code",
   "execution_count": 416,
   "metadata": {},
   "outputs": [
    {
     "name": "stderr",
     "output_type": "stream",
     "text": [
      "/Users/michaelbecker/anaconda/envs/deeplearning_finance/lib/python3.5/site-packages/ipykernel_launcher.py:7: UserWarning: Update your `LSTM` call to the Keras 2 API: `LSTM(return_sequences=True, input_shape=(60, 5), units=60)`\n",
      "  import sys\n"
     ]
    },
    {
     "name": "stdout",
     "output_type": "stream",
     "text": [
      "_________________________________________________________________\n",
      "Layer (type)                 Output Shape              Param #   \n",
      "=================================================================\n",
      "lstm_9 (LSTM)                (None, 60, 60)            15840     \n",
      "_________________________________________________________________\n",
      "dropout_9 (Dropout)          (None, 60, 60)            0         \n",
      "_________________________________________________________________\n",
      "lstm_10 (LSTM)               (None, 256)               324608    \n",
      "_________________________________________________________________\n",
      "dropout_10 (Dropout)         (None, 256)               0         \n",
      "_________________________________________________________________\n",
      "dense_5 (Dense)              (None, 15)                3855      \n",
      "_________________________________________________________________\n",
      "activation_5 (Activation)    (None, 15)                0         \n",
      "=================================================================\n",
      "Total params: 344,303\n",
      "Trainable params: 344,303\n",
      "Non-trainable params: 0\n",
      "_________________________________________________________________\n"
     ]
    }
   ],
   "source": [
    "model = build_model(X=X_train, y=y_train)"
   ]
  },
  {
   "cell_type": "code",
   "execution_count": null,
   "metadata": {},
   "outputs": [],
   "source": [
    "model.fit(X_train, y_train, batch_size=64, shuffle=True, epochs=5)"
   ]
  },
  {
   "cell_type": "markdown",
   "metadata": {},
   "source": [
    "Evaluate model"
   ]
  },
  {
   "cell_type": "code",
   "execution_count": null,
   "metadata": {},
   "outputs": [],
   "source": [
    "predictions = model.predict(X_train[:20])"
   ]
  },
  {
   "cell_type": "code",
   "execution_count": null,
   "metadata": {},
   "outputs": [],
   "source": [
    "example = 0\n",
    "\n",
    "real = np.concatenate((X_train[example, :, 3], y_train[example]))\n",
    "predicted =  np.empty((len(real)))\n",
    "predicted[:] = np.nan\n",
    "predicted[60:] = predictions[example]\n",
    "\n",
    "df = pd.DataFrame(np.vstack((real, predicted)).T)\n",
    "df.plot()\n",
    "plt.show()"
   ]
  },
  {
   "cell_type": "code",
   "execution_count": 262,
   "metadata": {},
   "outputs": [
    {
     "name": "stderr",
     "output_type": "stream",
     "text": [
      "100%|██████████| 152/152 [00:43<00:00,  3.95it/s]\n"
     ]
    }
   ],
   "source": [
    "start_date = datetime.datetime(2018, 1, 1)\n",
    "end_date = datetime.datetime(2018, 6, 1)\n",
    "dates = pd.date_range(start_date, end_date)\n",
    "symbols = list(vg_funds['fund_name'])\n",
    "\n",
    "fund_prices_test = get_data(symbols, dates)\n",
    "fund_prices_test.drop(['None', 'lastupdated', 'dividends', 'closeunadj'], axis=1, inplace=True)\n",
    "\n",
    "fund_prices_test_scaled = pd.DataFrame(scaler.transform(fund_prices_test), \n",
    "                                       index=fund_prices_test.index, \n",
    "                                       columns=fund_prices_test.columns)"
   ]
  },
  {
   "cell_type": "code",
   "execution_count": 266,
   "metadata": {},
   "outputs": [
    {
     "name": "stderr",
     "output_type": "stream",
     "text": [
      "100%|██████████| 5000/5000 [00:18<00:00, 274.29it/s]\n"
     ]
    }
   ],
   "source": [
    "X_test, y_test = create_dataset(fund_prices_test_scaled, n_samples=5000)"
   ]
  }
 ],
 "metadata": {
  "kernelspec": {
   "display_name": "Python 3",
   "language": "python",
   "name": "python3"
  },
  "language_info": {
   "codemirror_mode": {
    "name": "ipython",
    "version": 3
   },
   "file_extension": ".py",
   "mimetype": "text/x-python",
   "name": "python",
   "nbconvert_exporter": "python",
   "pygments_lexer": "ipython3",
   "version": "3.5.5"
  }
 },
 "nbformat": 4,
 "nbformat_minor": 2
}
