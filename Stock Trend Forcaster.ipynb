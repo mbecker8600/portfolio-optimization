{
 "cells": [
  {
   "cell_type": "code",
   "execution_count": 1,
   "metadata": {},
   "outputs": [],
   "source": [
    "import pandas as pd\n",
    "import numpy as np\n",
    "from tqdm import tqdm_notebook as tqdm\n",
    "import matplotlib.pyplot as plt"
   ]
  },
  {
   "cell_type": "code",
   "execution_count": 3,
   "metadata": {
    "scrolled": true
   },
   "outputs": [],
   "source": [
    "vg_funds = pd.read_csv('data/fund_list.csv')"
   ]
  },
  {
   "cell_type": "code",
   "execution_count": 4,
   "metadata": {},
   "outputs": [],
   "source": [
    "import quandl\n",
    "quandl.ApiConfig.api_key = 'rb8eEU4go9wAPCe7Woq8'\n",
    "\n",
    "def get_data(symbols, date_range):\n",
    "    \"\"\"Read stock data (adjusted close) for given symbols from Quandl data.\"\"\"\n",
    "    \n",
    "    dfs = []\n",
    "\n",
    "    pbar = tqdm(total=len(date_range))\n",
    "    for date in date_range:\n",
    "        df = quandl.get_table('SHARADAR/SFP', date=date, ticker=symbols)\n",
    "        dfs.append(df)\n",
    "        pbar.update(1)\n",
    "    \n",
    "    pbar.close()\n",
    "    data = pd.concat(dfs)\n",
    "    data = data.reset_index().set_index(['ticker', 'date'])\n",
    "    return data"
   ]
  },
  {
   "cell_type": "code",
   "execution_count": 5,
   "metadata": {},
   "outputs": [
    {
     "data": {
      "application/vnd.jupyter.widget-view+json": {
       "model_id": "767011a5478b45179bc33c0d5011a230",
       "version_major": 2,
       "version_minor": 0
      },
      "text/plain": [
       "HBox(children=(IntProgress(value=0, max=2193), HTML(value='')))"
      ]
     },
     "metadata": {},
     "output_type": "display_data"
    },
    {
     "name": "stdout",
     "output_type": "stream",
     "text": [
      "\n"
     ]
    }
   ],
   "source": [
    "import datetime\n",
    "\n",
    "start_date = datetime.datetime(2012, 1, 1)\n",
    "end_date = datetime.datetime(2018, 1, 1)\n",
    "dates = pd.date_range(start_date, end_date)\n",
    "symbols = list(vg_funds['fund_name'])\n",
    "\n",
    "fund_prices = get_data(symbols, dates)\n",
    "fund_prices.drop(['None', 'lastupdated', 'dividends', 'closeunadj'], axis=1, inplace=True)"
   ]
  },
  {
   "cell_type": "code",
   "execution_count": 6,
   "metadata": {},
   "outputs": [
    {
     "name": "stdout",
     "output_type": "stream",
     "text": [
      "79113\n"
     ]
    }
   ],
   "source": [
    "print(len(fund_prices))"
   ]
  },
  {
   "cell_type": "code",
   "execution_count": 7,
   "metadata": {},
   "outputs": [
    {
     "name": "stdout",
     "output_type": "stream",
     "text": [
      "                    open    high    low  close     volume\n",
      "ticker date                                              \n",
      "BIV    2012-01-03  86.62  87.007  86.62  86.90   379600.0\n",
      "BLV    2012-01-03  91.24  91.850  90.88  91.51   171000.0\n",
      "BND    2012-01-03  83.43  83.430  83.18  83.28  2282600.0\n",
      "BSV    2012-01-03  80.93  80.930  80.75  80.84   786300.0\n",
      "EDF    2012-01-03  21.28  21.630  21.21  21.63    69000.0\n"
     ]
    }
   ],
   "source": [
    "print(fund_prices.head())"
   ]
  },
  {
   "cell_type": "code",
   "execution_count": 9,
   "metadata": {},
   "outputs": [
    {
     "data": {
      "text/plain": [
       "StandardScaler(copy=True, with_mean=True, with_std=True)"
      ]
     },
     "execution_count": 9,
     "metadata": {},
     "output_type": "execute_result"
    }
   ],
   "source": [
    "from sklearn.preprocessing import StandardScaler\n",
    "\n",
    "fund_pct_change = fund_prices.groupby(level=0).pct_change()\n",
    "fund_pct_change.replace([np.inf, -np.inf], np.nan, inplace=True)\n",
    "fund_pct_change.ffill(inplace=True)\n",
    "fund_pct_change.dropna(how='any', inplace=True)\n",
    "\n",
    "scaler = StandardScaler()\n",
    "scaler.fit(fund_pct_change)"
   ]
  },
  {
   "cell_type": "code",
   "execution_count": 50,
   "metadata": {},
   "outputs": [],
   "source": [
    "from sklearn import preprocessing\n",
    "\n",
    "def get_trend(cumsum):\n",
    "    if cumsum > .06: \n",
    "#         return 'very high'\n",
    "        return [0., 0., 0., 0., 0., 1.]\n",
    "    elif cumsum > .03: \n",
    "#         return 'high'\n",
    "        return [0., 0., 0., 0., 1., 0.]\n",
    "    elif cumsum >= .005: \n",
    "#         return 'above average'\n",
    "        return [0., 0., 0., 1., 0., 0.]\n",
    "    elif cumsum > -.02: \n",
    "#         return 'below average'\n",
    "        return [0., 0., 1., 0., 0., 0.]\n",
    "    elif cumsum > -.05:\n",
    "#         return 'low'\n",
    "        return [0., 1., 0., 0., 0., 0.]\n",
    "    else: \n",
    "#         return 'very low'\n",
    "         return [1., 0., 0., 0., 0., 0.]\n",
    "\n",
    "def create_dataset(fund_prices, \n",
    "                   n_samples=10000, \n",
    "                   lookback=60, \n",
    "                   window=30):\n",
    "    \n",
    "    samples = fund_prices.sample(n=n_samples)\n",
    "    \n",
    "    X = []\n",
    "    y = []\n",
    "    \n",
    "    \n",
    "    pbar = tqdm(total=len(samples))\n",
    "    for index, row in samples.iterrows():\n",
    "        \n",
    "        pre = fund_prices.loc[index[0]].loc[:index[1]]\n",
    "        pre = pre.reset_index().iloc[-lookback:]\n",
    "        post = fund_prices.loc[index[0]].loc[index[1]:]\n",
    "        post = post.reset_index().iloc[1:window+1]\n",
    "        \n",
    "        pre = pre.drop(['date'], axis=1)\n",
    "        pre = pre.values\n",
    "\n",
    "        post = post.drop(['date'], axis=1)\n",
    "        post = post['close']\n",
    "        \n",
    "        if len(pre) == lookback and len(post) == window:\n",
    "            X.append(scaler.transform(pre))\n",
    "            y.append(get_trend(post.cumsum().iloc[-1]))\n",
    "        \n",
    "        pbar.update(1)\n",
    "    \n",
    "    return np.array(X), np.array(y)"
   ]
  },
  {
   "cell_type": "code",
   "execution_count": 51,
   "metadata": {
    "scrolled": true
   },
   "outputs": [
    {
     "data": {
      "application/vnd.jupyter.widget-view+json": {
       "model_id": "3734d96031344a1b8c32e5e2d954ee53",
       "version_major": 2,
       "version_minor": 0
      },
      "text/plain": [
       "HBox(children=(IntProgress(value=0, max=70000), HTML(value='')))"
      ]
     },
     "metadata": {},
     "output_type": "display_data"
    }
   ],
   "source": [
    "X_train, y_train = create_dataset(fund_pct_change, n_samples=70000, window=15)"
   ]
  },
  {
   "cell_type": "code",
   "execution_count": 54,
   "metadata": {},
   "outputs": [
    {
     "name": "stdout",
     "output_type": "stream",
     "text": [
      "(66349, 60, 5)\n",
      "(66349, 6)\n"
     ]
    }
   ],
   "source": [
    "print(X_train.shape)\n",
    "print(y_train.shape)"
   ]
  },
  {
   "cell_type": "code",
   "execution_count": 56,
   "metadata": {},
   "outputs": [
    {
     "data": {
      "text/plain": [
       "array([[0., 0., 1., 0., 0., 0.],\n",
       "       [0., 0., 1., 0., 0., 0.],\n",
       "       [0., 0., 0., 1., 0., 0.],\n",
       "       ...,\n",
       "       [0., 0., 1., 0., 0., 0.],\n",
       "       [0., 0., 0., 1., 0., 0.],\n",
       "       [0., 1., 0., 0., 0., 0.]])"
      ]
     },
     "execution_count": 56,
     "metadata": {},
     "output_type": "execute_result"
    }
   ],
   "source": [
    "y_train"
   ]
  },
  {
   "cell_type": "code",
   "execution_count": 57,
   "metadata": {},
   "outputs": [],
   "source": [
    "from keras.layers.core import Dense, Activation, Dropout\n",
    "from keras.layers.recurrent import LSTM\n",
    "from keras.models import Sequential\n",
    "\n",
    "def build_model(X, y):\n",
    "    model = Sequential()\n",
    "    model.add(LSTM(input_shape=(X.shape[1], X.shape[2]), output_dim=X.shape[1], return_sequences = True))\n",
    "    model.add(Dropout(0.5))\n",
    "    model.add(LSTM(256))\n",
    "    model.add(Dropout(0.5))\n",
    "    model.add(Dense(y.shape[1]))\n",
    "    model.add(Activation(\"softmax\"))\n",
    "    model.compile(loss=\"categorical_crossentropy\", optimizer=\"adam\")\n",
    "    model.summary()\n",
    "    return model"
   ]
  },
  {
   "cell_type": "code",
   "execution_count": 58,
   "metadata": {},
   "outputs": [
    {
     "name": "stderr",
     "output_type": "stream",
     "text": [
      "/Users/michaelbecker/anaconda/envs/deeplearning_finance/lib/python3.5/site-packages/ipykernel_launcher.py:7: UserWarning: Update your `LSTM` call to the Keras 2 API: `LSTM(units=60, return_sequences=True, input_shape=(60, 5))`\n",
      "  import sys\n"
     ]
    },
    {
     "name": "stdout",
     "output_type": "stream",
     "text": [
      "_________________________________________________________________\n",
      "Layer (type)                 Output Shape              Param #   \n",
      "=================================================================\n",
      "lstm_1 (LSTM)                (None, 60, 60)            15840     \n",
      "_________________________________________________________________\n",
      "dropout_1 (Dropout)          (None, 60, 60)            0         \n",
      "_________________________________________________________________\n",
      "lstm_2 (LSTM)                (None, 256)               324608    \n",
      "_________________________________________________________________\n",
      "dropout_2 (Dropout)          (None, 256)               0         \n",
      "_________________________________________________________________\n",
      "dense_1 (Dense)              (None, 6)                 1542      \n",
      "_________________________________________________________________\n",
      "activation_1 (Activation)    (None, 6)                 0         \n",
      "=================================================================\n",
      "Total params: 341,990\n",
      "Trainable params: 341,990\n",
      "Non-trainable params: 0\n",
      "_________________________________________________________________\n"
     ]
    }
   ],
   "source": [
    "model = build_model(X=X_train, y=y_train)"
   ]
  },
  {
   "cell_type": "code",
   "execution_count": 59,
   "metadata": {},
   "outputs": [
    {
     "name": "stdout",
     "output_type": "stream",
     "text": [
      "Epoch 1/5\n",
      "66349/66349 [==============================] - 166s 3ms/step - loss: 1.2930\n",
      "Epoch 2/5\n",
      "66349/66349 [==============================] - 162s 2ms/step - loss: 1.2097\n",
      "Epoch 3/5\n",
      "66349/66349 [==============================] - 161s 2ms/step - loss: 1.1093\n",
      "Epoch 4/5\n",
      "66349/66349 [==============================] - 157s 2ms/step - loss: 1.0140\n",
      "Epoch 5/5\n",
      "66349/66349 [==============================] - 157s 2ms/step - loss: 0.9368\n"
     ]
    },
    {
     "data": {
      "text/plain": [
       "<keras.callbacks.History at 0x1a1513dfd0>"
      ]
     },
     "execution_count": 59,
     "metadata": {},
     "output_type": "execute_result"
    }
   ],
   "source": [
    "model.fit(X_train, y_train, batch_size=64, shuffle=True, epochs=5)"
   ]
  },
  {
   "cell_type": "markdown",
   "metadata": {},
   "source": [
    "Evaluate model"
   ]
  },
  {
   "cell_type": "code",
   "execution_count": null,
   "metadata": {},
   "outputs": [],
   "source": [
    "predictions = model.predict(X_train[:20])"
   ]
  },
  {
   "cell_type": "code",
   "execution_count": null,
   "metadata": {},
   "outputs": [],
   "source": [
    "example = 0\n",
    "\n",
    "real = np.concatenate((X_train[example, :, 3], y_train[example]))\n",
    "predicted =  np.empty((len(real)))\n",
    "predicted[:] = np.nan\n",
    "predicted[60:] = predictions[example]\n",
    "\n",
    "df = pd.DataFrame(np.vstack((real, predicted)).T)\n",
    "df.plot()\n",
    "plt.show()"
   ]
  },
  {
   "cell_type": "code",
   "execution_count": 262,
   "metadata": {},
   "outputs": [
    {
     "name": "stderr",
     "output_type": "stream",
     "text": [
      "100%|██████████| 152/152 [00:43<00:00,  3.95it/s]\n"
     ]
    }
   ],
   "source": [
    "start_date = datetime.datetime(2018, 1, 1)\n",
    "end_date = datetime.datetime(2018, 6, 1)\n",
    "dates = pd.date_range(start_date, end_date)\n",
    "symbols = list(vg_funds['fund_name'])\n",
    "\n",
    "fund_prices_test = get_data(symbols, dates)\n",
    "fund_prices_test.drop(['None', 'lastupdated', 'dividends', 'closeunadj'], axis=1, inplace=True)\n",
    "\n",
    "fund_prices_test_scaled = pd.DataFrame(scaler.transform(fund_prices_test), \n",
    "                                       index=fund_prices_test.index, \n",
    "                                       columns=fund_prices_test.columns)"
   ]
  },
  {
   "cell_type": "code",
   "execution_count": 266,
   "metadata": {},
   "outputs": [
    {
     "name": "stderr",
     "output_type": "stream",
     "text": [
      "100%|██████████| 5000/5000 [00:18<00:00, 274.29it/s]\n"
     ]
    }
   ],
   "source": [
    "X_test, y_test = create_dataset(fund_prices_test_scaled, n_samples=5000)"
   ]
  }
 ],
 "metadata": {
  "kernelspec": {
   "display_name": "Python 3",
   "language": "python",
   "name": "python3"
  },
  "language_info": {
   "codemirror_mode": {
    "name": "ipython",
    "version": 3
   },
   "file_extension": ".py",
   "mimetype": "text/x-python",
   "name": "python",
   "nbconvert_exporter": "python",
   "pygments_lexer": "ipython3",
   "version": "3.5.5"
  }
 },
 "nbformat": 4,
 "nbformat_minor": 2
}
